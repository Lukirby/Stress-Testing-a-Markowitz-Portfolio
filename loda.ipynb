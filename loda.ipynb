{
 "cells": [
  {
   "cell_type": "markdown",
   "id": "4a5e34aa",
   "metadata": {},
   "source": [
    "## AI Finance Project - Loda Enrico "
   ]
  },
  {
   "cell_type": "markdown",
   "id": "2c81af5e",
   "metadata": {},
   "source": []
  }
 ],
 "metadata": {
  "language_info": {
   "name": "python"
  }
 },
 "nbformat": 4,
 "nbformat_minor": 5
}
