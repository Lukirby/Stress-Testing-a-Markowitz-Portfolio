{
 "cells": [
  {
   "cell_type": "code",
   "execution_count": 13,
   "id": "5147a029",
   "metadata": {},
   "outputs": [],
   "source": [
    "# import\n",
    "import pandas as pd\n",
    "import yfinance as yf"
   ]
  },
  {
   "cell_type": "code",
   "execution_count": 14,
   "id": "f014b13e",
   "metadata": {},
   "outputs": [
    {
     "name": "stderr",
     "output_type": "stream",
     "text": [
      "[*********************100%***********************]  2 of 2 completed\n"
     ]
    }
   ],
   "source": [
    "df = yf.download([\"SPY\",\"NVDA\"], start=\"2010-01-01\", end=\"2025-01-01\")\n",
    "spy = df.xs('SPY', axis=1, level=1)\n",
    "x = df.xs('NVDA', axis=1, level=1)"
   ]
  },
  {
   "cell_type": "markdown",
   "id": "ee996612",
   "metadata": {},
   "source": [
    "**Simple returns for every day:**\n",
    "$$\n",
    "R_t = \\frac{P_t - P_{t-1}}{P_{t-1}} = \\frac{P_t}{P_{t-1}} - 1\n",
    "$$"
   ]
  },
  {
   "cell_type": "code",
   "execution_count": 15,
   "id": "9226a164",
   "metadata": {},
   "outputs": [],
   "source": [
    "prices = df[\"Close\"]\n",
    "returns = (prices / prices.shift(1)) - 1\n",
    "returns = returns.fillna(0)\n",
    "spy_r = returns['SPY']\n",
    "X_r = returns['NVDA']"
   ]
  },
  {
   "cell_type": "code",
   "execution_count": 16,
   "id": "587c9517",
   "metadata": {},
   "outputs": [
    {
     "name": "stdout",
     "output_type": "stream",
     "text": [
      "0.0019323755487510445 0.0005664353054376047\n"
     ]
    }
   ],
   "source": [
    "mu1 = returns['NVDA'].mean()\n",
    "mu2 = returns['SPY'].mean()\n",
    "\n",
    "print(mu1, mu2)"
   ]
  }
 ],
 "metadata": {
  "kernelspec": {
   "display_name": "Python 3",
   "language": "python",
   "name": "python3"
  },
  "language_info": {
   "codemirror_mode": {
    "name": "ipython",
    "version": 3
   },
   "file_extension": ".py",
   "mimetype": "text/x-python",
   "name": "python",
   "nbconvert_exporter": "python",
   "pygments_lexer": "ipython3",
   "version": "3.9.2"
  }
 },
 "nbformat": 4,
 "nbformat_minor": 5
}
