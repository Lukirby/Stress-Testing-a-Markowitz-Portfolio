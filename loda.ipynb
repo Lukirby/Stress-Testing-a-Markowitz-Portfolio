{
 "cells": [
  {
   "cell_type": "markdown",
   "id": "4a5e34aa",
   "metadata": {},
   "source": [
    "## AI Finance Project - Loda Enrico "
   ]
  },
  {
   "cell_type": "markdown",
   "id": "2c81af5e",
   "metadata": {},
   "source": [
    "prova fisso"
   ]
  },
  {
   "cell_type": "markdown",
   "id": "42aabfa6",
   "metadata": {},
   "source": []
  }
 ],
 "metadata": {
  "kernelspec": {
   "display_name": "Python 3",
   "language": "python",
   "name": "python3"
  },
  "language_info": {
   "name": "python",
   "version": "3.10.10"
  }
 },
 "nbformat": 4,
 "nbformat_minor": 5
}
